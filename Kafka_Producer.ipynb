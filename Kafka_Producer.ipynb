{
 "cells": [
  {
   "cell_type": "code",
   "execution_count": 3,
   "id": "37af4b55-19d9-42d2-be62-968552c08e94",
   "metadata": {},
   "outputs": [
    {
     "name": "stdout",
     "output_type": "stream",
     "text": [
      "Requirement already satisfied: kafka in /opt/homebrew/Cellar/jupyterlab/4.2.1/libexec/lib/python3.12/site-packages (1.3.5)\n",
      "\n",
      "\u001b[1m[\u001b[0m\u001b[34;49mnotice\u001b[0m\u001b[1;39;49m]\u001b[0m\u001b[39;49m A new release of pip is available: \u001b[0m\u001b[31;49m24.0\u001b[0m\u001b[39;49m -> \u001b[0m\u001b[32;49m24.2\u001b[0m\n",
      "\u001b[1m[\u001b[0m\u001b[34;49mnotice\u001b[0m\u001b[1;39;49m]\u001b[0m\u001b[39;49m To update, run: \u001b[0m\u001b[32;49m/opt/homebrew/Cellar/jupyterlab/4.2.1/libexec/bin/python -m pip install --upgrade pip\u001b[0m\n",
      "Note: you may need to restart the kernel to use updated packages.\n"
     ]
    }
   ],
   "source": [
    "pip install kafka"
   ]
  },
  {
   "cell_type": "code",
   "execution_count": 1,
   "id": "0c67d292-a1d2-4fde-a9ec-06252603a26b",
   "metadata": {},
   "outputs": [
    {
     "name": "stdout",
     "output_type": "stream",
     "text": [
      "Requirement already satisfied: kafka-python in /opt/homebrew/Cellar/jupyterlab/4.2.1/libexec/lib/python3.12/site-packages (2.0.2)\n",
      "\n",
      "\u001b[1m[\u001b[0m\u001b[34;49mnotice\u001b[0m\u001b[1;39;49m]\u001b[0m\u001b[39;49m A new release of pip is available: \u001b[0m\u001b[31;49m24.0\u001b[0m\u001b[39;49m -> \u001b[0m\u001b[32;49m24.2\u001b[0m\n",
      "\u001b[1m[\u001b[0m\u001b[34;49mnotice\u001b[0m\u001b[1;39;49m]\u001b[0m\u001b[39;49m To update, run: \u001b[0m\u001b[32;49m/opt/homebrew/Cellar/jupyterlab/4.2.1/libexec/bin/python -m pip install --upgrade pip\u001b[0m\n",
      "Note: you may need to restart the kernel to use updated packages.\n"
     ]
    }
   ],
   "source": [
    "pip install kafka-python"
   ]
  },
  {
   "cell_type": "code",
   "execution_count": 2,
   "id": "16ff1581-33db-4fa6-b669-1822288c0d2a",
   "metadata": {},
   "outputs": [],
   "source": [
    "from kafka import KafkaProducer"
   ]
  },
  {
   "cell_type": "code",
   "execution_count": 47,
   "id": "e59fe686-dde4-402c-8af9-fce44c9446b2",
   "metadata": {},
   "outputs": [],
   "source": [
    "# Create a Kafka Producer\n",
    "producer = KafkaProducer(\n",
    "    bootstrap_servers = ['localhost:9092'],\n",
    "    key_serializer=str.encode,\n",
    "    value_serializer=str.encode,\n",
    "    acks=0\n",
    ")"
   ]
  },
  {
   "cell_type": "code",
   "execution_count": 24,
   "id": "41820a05-17ae-43f2-adf2-898dc65ab0af",
   "metadata": {},
   "outputs": [],
   "source": [
    "# #send meesage \n",
    "# for i in range(10):\n",
    "#     producer.send(\"my-first-topic\", key=\"statement\", value=f\"hello world{i}\")"
   ]
  },
  {
   "cell_type": "code",
   "execution_count": 11,
   "id": "439707cf-2573-43a9-b5c8-3abbb38d4627",
   "metadata": {},
   "outputs": [],
   "source": [
    "# producer.flush()"
   ]
  },
  {
   "cell_type": "code",
   "execution_count": 56,
   "id": "7760f290-82d7-49a0-8b96-1d3b813a675c",
   "metadata": {},
   "outputs": [
    {
     "name": "stdout",
     "output_type": "stream",
     "text": [
      "<kafka.producer.future.FutureRecordMetadata object at 0x1053014c0>\n"
     ]
    }
   ],
   "source": [
    "#sync req\n",
    "future = producer.send(\"my_topic\", key=\"my_key\", value=\"my_value\")\n",
    "print(future)"
   ]
  },
  {
   "cell_type": "code",
   "execution_count": 61,
   "id": "ce60fc10-7984-45ce-971c-771d248b90ca",
   "metadata": {},
   "outputs": [
    {
     "name": "stdout",
     "output_type": "stream",
     "text": [
      "Failed to write message: KafkaTimeoutError: Batch for TopicPartition(topic='my_topic', partition=0) containing 2 record(s) expired: 30 seconds have passed since batch creation plus linger time\n"
     ]
    }
   ],
   "source": [
    "try:\n",
    "    record_metadata = future.get(timeout=10)\n",
    "    print(record_metadata)\n",
    "except KafkaError as e:\n",
    "    print(f\"Failed to write message: {e}\")"
   ]
  },
  {
   "cell_type": "code",
   "execution_count": 62,
   "id": "a0fd3e0f-b96e-4999-a72e-384016a6bbb0",
   "metadata": {},
   "outputs": [
    {
     "data": {
      "text/plain": [
       "<kafka.producer.future.FutureRecordMetadata at 0x105302ea0>"
      ]
     },
     "execution_count": 62,
     "metadata": {},
     "output_type": "execute_result"
    },
    {
     "name": "stdout",
     "output_type": "stream",
     "text": [
      "Failed to send message: KafkaTimeoutError: Batch for TopicPartition(topic='my_topic', partition=0) containing 1 record(s) expired: 30 seconds have passed since batch creation plus linger time\n"
     ]
    }
   ],
   "source": [
    "#async req\n",
    "from kafka.errors import KafkaError\n",
    "\n",
    "def on_send_success(record_metadata):\n",
    "    print(f\"Topic: {record_metadata.topic}\")\n",
    "    print(f\"Partiton: {record_metadata.partition}\")\n",
    "    print(f\"Offset: {record_metadata.offset}\")\n",
    "\n",
    "def on_send_error(excp):\n",
    "    print(f\"Failed to send message: {excp}\")\n",
    "\n",
    "\n",
    "producer.send(\"my_topic\", key=\"my_key\", value=\"my_value\").add_callback(on_send_success).add_errback(on_send_error)\n"
   ]
  },
  {
   "cell_type": "code",
   "execution_count": 64,
   "id": "ece72325-3c8b-456c-aef7-1d4cb197bac9",
   "metadata": {},
   "outputs": [],
   "source": [
    "class Customer:\n",
    "    def __init__(self, customer_id, customer_name):\n",
    "        self.customer_id = customer_id\n",
    "        self.customer_name = customer_name"
   ]
  },
  {
   "cell_type": "code",
   "execution_count": 71,
   "id": "d899ec11-c80d-4674-a83f-622374264228",
   "metadata": {},
   "outputs": [],
   "source": [
    "import json\n",
    "\n",
    "class CustomerSerializer:\n",
    "    def serialize(self, data):\n",
    "        if data is None:\n",
    "            return None\n",
    "        return json.dumps({\n",
    "            'customer_id': data.customer_id,\n",
    "            'customer_name': data.customer_name }).encode('utf-8')\n",
    "\n"
   ]
  },
  {
   "cell_type": "code",
   "execution_count": 72,
   "id": "b543d809-071f-45a5-8719-55c8f6e472b9",
   "metadata": {},
   "outputs": [],
   "source": [
    "customer_serializer = CustomerSerializer()\n",
    "\n",
    "# Create a Kafka Producer\n",
    "producer = KafkaProducer(\n",
    "    bootstrap_servers = ['localhost:9092'],\n",
    "    key_serializer=str.encode,\n",
    "    value_serializer=customer_serializer.serialize\n",
    ")"
   ]
  },
  {
   "cell_type": "code",
   "execution_count": 73,
   "id": "692993b4-b61a-4341-9dd3-21a7edd4530c",
   "metadata": {},
   "outputs": [],
   "source": [
    "customer = Customer(123, 'John Doe')"
   ]
  },
  {
   "cell_type": "code",
   "execution_count": 81,
   "id": "86f24087-6128-4400-b953-06e511301cf9",
   "metadata": {},
   "outputs": [],
   "source": [
    "future = producer.send('my_topic', key='customer_key', value=customer)"
   ]
  },
  {
   "cell_type": "code",
   "execution_count": 82,
   "id": "957d542d-a75f-4d0f-8d09-33abe927ee2e",
   "metadata": {},
   "outputs": [
    {
     "name": "stdout",
     "output_type": "stream",
     "text": [
      "RecordMetadata(topic='my_topic', partition=0, topic_partition=TopicPartition(topic='my_topic', partition=0), offset=19, timestamp=1725615340082, log_start_offset=0, checksum=None, serialized_key_size=12, serialized_value_size=49, serialized_header_size=-1)\n"
     ]
    }
   ],
   "source": [
    "try:\n",
    "    record_metadata = future.get(timeout=10)\n",
    "    print(record_metadata)\n",
    "except KafkaError as e:\n",
    "    print(f\"Failed to write message: {e}\")"
   ]
  },
  {
   "cell_type": "code",
   "execution_count": null,
   "id": "d08b7f56-1cec-4799-a8fc-429249a8430d",
   "metadata": {},
   "outputs": [],
   "source": []
  }
 ],
 "metadata": {
  "kernelspec": {
   "display_name": "Python 3 (ipykernel)",
   "language": "python",
   "name": "python3"
  },
  "language_info": {
   "codemirror_mode": {
    "name": "ipython",
    "version": 3
   },
   "file_extension": ".py",
   "mimetype": "text/x-python",
   "name": "python",
   "nbconvert_exporter": "python",
   "pygments_lexer": "ipython3",
   "version": "3.12.3"
  }
 },
 "nbformat": 4,
 "nbformat_minor": 5
}
